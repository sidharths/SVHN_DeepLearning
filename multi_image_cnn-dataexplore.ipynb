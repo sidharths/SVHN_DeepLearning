{
 "cells": [
  {
   "cell_type": "code",
   "execution_count": 1,
   "metadata": {
    "collapsed": false,
    "deletable": true,
    "editable": true
   },
   "outputs": [
    {
     "name": "stdout",
     "output_type": "stream",
     "text": [
      "Tensor flow version is --  1.0.0\n"
     ]
    },
    {
     "data": {
      "text/plain": [
       "True"
      ]
     },
     "execution_count": 1,
     "metadata": {},
     "output_type": "execute_result"
    }
   ],
   "source": [
    "import tensorflow as tf\n",
    "import numpy as np\n",
    "import random\n",
    "import time  \n",
    "import matplotlib.pyplot as plt\n",
    "from PIL import Image\n",
    "import os\n",
    "import sys\n",
    "import scipy.io as scp\n",
    "import sklearn as skl\n",
    "import  urllib.request as urlreq\n",
    "import random\n",
    "from IPython.display import display, Image\n",
    "import tarfile\n",
    "from datetime import datetime\n",
    "%matplotlib inline\n",
    "print (\"Tensor flow version is -- \", tf.__version__)\n",
    "tf.test.is_gpu_available()"
   ]
  },
  {
   "cell_type": "code",
   "execution_count": 2,
   "metadata": {
    "collapsed": false,
    "deletable": true,
    "editable": true
   },
   "outputs": [
    {
     "name": "stdout",
     "output_type": "stream",
     "text": [
      "Not downloading, file already present at  mat/test.tar.gz\n",
      "Not downloading, file already present at  mat/train.tar.gz\n",
      "Not downloading, file already present at  mat/extra.tar.gz\n"
     ]
    }
   ],
   "source": [
    "# downloading the data\n",
    "\n",
    "url = 'http://ufldl.stanford.edu/housenumbers/'\n",
    "prefix      =   \"mat/\" \n",
    "last_percent_reported = None\n",
    "\n",
    "def progress_hook(count, blockSize, totalSize):\n",
    "    global last_percent_reported\n",
    "    percent = int(count * blockSize * 100 / totalSize)\n",
    "\n",
    "    if last_percent_reported != percent:\n",
    "        if percent % 5 == 0:\n",
    "            sys.stdout.write(\"%s%%\" % percent)\n",
    "            sys.stdout.flush()\n",
    "        else:\n",
    "            sys.stdout.write(\".\")\n",
    "            sys.stdout.flush()\n",
    "\n",
    "    last_percent_reported = percent\n",
    "        \n",
    "def maybe_download(filename, force=False): \n",
    "    if force or not os.path.exists(prefix+filename):\n",
    "        print('Attempting to download:', filename) \n",
    "        filename, _ = urlreq.urlretrieve(url+filename, prefix+filename, reporthook=progress_hook)\n",
    "        print('\\nDownload Complete!, file present at ', filename) \n",
    "        statinfo = os.stat(filename)\n",
    "    else:\n",
    "        filename = prefix+filename\n",
    "        print('Not downloading, file already present at ', filename) \n",
    "    \n",
    "    return filename\n",
    "\n",
    "\n",
    "test_file  = maybe_download('test.tar.gz')\n",
    "train_file = maybe_download('train.tar.gz')\n",
    "extra_file = maybe_download('extra.tar.gz')  "
   ]
  },
  {
   "cell_type": "code",
   "execution_count": 4,
   "metadata": {
    "collapsed": false,
    "deletable": true,
    "editable": true
   },
   "outputs": [
    {
     "name": "stdout",
     "output_type": "stream",
     "text": [
      "mat already present - Skipping extraction of mat/train.tar.gz\n",
      "mat already present - Skipping extraction of mat/test.tar.gz\n",
      "mat already present - Skipping extraction of mat/extra.tar.gz\n"
     ]
    }
   ],
   "source": [
    "# extract tar files to folders\n",
    "\n",
    "np.random.seed(99)\n",
    "\n",
    "def maybe_extract(filename, force=False):\n",
    "    \n",
    "    if filename.endswith('tar.gz'):\n",
    "        root = filename.split('/')[0]\n",
    "        folder = (filename.split('/')[1]).split('.')[0]\n",
    "        pathtofolder = root+'/'+folder \n",
    "        if os.path.isdir(pathtofolder) and not force:\n",
    "            print('%s already present - Skipping extraction of %s' % (root, filename))\n",
    "            return pathtofolder+'/'\n",
    "        else:\n",
    "            print('Extracting data to  %s ....' % pathtofolder)\n",
    "            tar = tarfile.open(filename, \"r:gz\") \n",
    "            tar.extractall(path = root)\n",
    "            tar.close()\n",
    "            data_folders = root \n",
    "            return pathtofolder+'/'\n",
    "    else:\n",
    "        print ('The tar gzipped file ', filename, ' does not exist. Download it first.')\n",
    "    \n",
    "  \n",
    "train_folders = maybe_extract(train_file)\n",
    "test_folders  = maybe_extract(test_file)\n",
    "extra_folders = maybe_extract(extra_file)"
   ]
  },
  {
   "cell_type": "code",
   "execution_count": 5,
   "metadata": {
    "collapsed": false,
    "deletable": true,
    "editable": true
   },
   "outputs": [
    {
     "name": "stdout",
     "output_type": "stream",
     "text": [
      "33402\n",
      "13068\n",
      "202353\n"
     ]
    }
   ],
   "source": [
    "# Source http://www.a2ialab.com/\n",
    "\n",
    "# SVHN extracts data from the digitStruct.mat full numbers files.   \n",
    "#\n",
    "# This is an A2iA tweak (YG -9 Jan 2014) of the script found here :\n",
    "# http://blog.grimwisdom.com/python/street-view-house-numbers-svhn-and-octave\n",
    "#\n",
    "# The digitStruct.mat files in the full numbers tars (train.tar.gz, test.tar.gz, and extra.tar.gz) \n",
    "# are only compatible with matlab.\n",
    "\n",
    "import h5py\n",
    "\n",
    "# The DigitStructFile is just a wrapper around the h5py data.  It basically references \n",
    "#    inf:              The input h5 matlab file\n",
    "#    digitStructName   The h5 ref to all the file names\n",
    "#    digitStructBbox   The h5 ref to all struc data\n",
    "class DigitStructFile:\n",
    "    def __init__(self, inf):\n",
    "        self.inf = h5py.File(inf, 'r')\n",
    "        self.digitStructName = self.inf['digitStruct']['name']\n",
    "        self.digitStructBbox = self.inf['digitStruct']['bbox']\n",
    "\n",
    "# getName returns the 'name' string for for the n(th) digitStruct. \n",
    "    def getName(self,n):\n",
    "        return ''.join([chr(c[0]) for c in self.inf[self.digitStructName[n][0]].value])\n",
    "\n",
    "# bboxHelper handles the coding difference when there is exactly one bbox or an array of bbox. \n",
    "    def bboxHelper(self,attr):\n",
    "        if (len(attr) > 1):\n",
    "            attr = [self.inf[attr.value[j].item()].value[0][0] for j in range(len(attr))]\n",
    "        else:\n",
    "            attr = [attr.value[0][0]]\n",
    "        return attr\n",
    "\n",
    "# getBbox returns a dict of data for the n(th) bbox. \n",
    "    def getBbox(self,n):\n",
    "        bbox = {}\n",
    "        bb = self.digitStructBbox[n].item()\n",
    "        bbox['height'] = self.bboxHelper(self.inf[bb][\"height\"])\n",
    "        bbox['label'] = self.bboxHelper(self.inf[bb][\"label\"])\n",
    "        bbox['left'] = self.bboxHelper(self.inf[bb][\"left\"])\n",
    "        bbox['top'] = self.bboxHelper(self.inf[bb][\"top\"])\n",
    "        bbox['width'] = self.bboxHelper(self.inf[bb][\"width\"])\n",
    "        return bbox\n",
    "\n",
    "    def getDigitStructure(self,n):\n",
    "        s = self.getBbox(n)\n",
    "        s['name']=self.getName(n)\n",
    "        return s\n",
    "\n",
    "# getAllDigitStructure returns all the digitStruct from the input file.     \n",
    "    def getAllDigitStructure(self):\n",
    "        return [self.getDigitStructure(i) for i in range(len(self.digitStructName))]\n",
    "\n",
    "# Return a restructured version of the dataset (one structure by boxed digit).\n",
    "#\n",
    "#   Return a list of such dicts :\n",
    "#      'filename' : filename of the samples\n",
    "#      'boxes' : list of such dicts (one by digit) :\n",
    "#          'label' : 1 to 9 corresponding digits. 10 for digit '0' in image.\n",
    "#          'left', 'top' : position of bounding box\n",
    "#          'width', 'height' : dimension of bounding box\n",
    "#\n",
    "# Note: We may turn this to a generator, if memory issues arise.\n",
    "    def getAllDigitStructure_ByDigit(self):\n",
    "        pictDat = self.getAllDigitStructure()\n",
    "        result = []\n",
    "        structCnt = 1\n",
    "        for i in range(len(pictDat)):\n",
    "            item = { 'filename' : pictDat[i][\"name\"] }\n",
    "            figures = []\n",
    "            for j in range(len(pictDat[i]['height'])):\n",
    "                figure = {}\n",
    "                figure['height'] = pictDat[i]['height'][j]\n",
    "                figure['label']  = pictDat[i]['label'][j]\n",
    "                figure['left']   = pictDat[i]['left'][j]\n",
    "                figure['top']    = pictDat[i]['top'][j]\n",
    "                figure['width']  = pictDat[i]['width'][j]\n",
    "                figures.append(figure)\n",
    "            structCnt = structCnt + 1\n",
    "            item['boxes'] = figures\n",
    "            result.append(item)\n",
    "        return result\n",
    "    \n",
    "     \n",
    "fin = os.path.join( train_folders , 'digitStruct.mat')\n",
    "dsf = DigitStructFile( fin )\n",
    "train_data = dsf.getAllDigitStructure_ByDigit()\n",
    "print ( len(train_data) )\n",
    "\n",
    "fin = os.path.join(test_folders, 'digitStruct.mat')\n",
    "dsf = DigitStructFile(fin)\n",
    "test_data = dsf.getAllDigitStructure_ByDigit()\n",
    "print (len(test_data))\n",
    "\n",
    "fin = os.path.join(extra_folders, 'digitStruct.mat')\n",
    "dsf = DigitStructFile(fin)\n",
    "extra_data = dsf.getAllDigitStructure_ByDigit()\n",
    "print (len(extra_data))"
   ]
  },
  {
   "cell_type": "code",
   "execution_count": 97,
   "metadata": {
    "collapsed": false,
    "deletable": true,
    "editable": true
   },
   "outputs": [
    {
     "name": "stdout",
     "output_type": "stream",
     "text": [
      "[0, 5137, 18130, 8691, 1434, 9, 1]\n",
      "[0, 2483, 8356, 2081, 146, 2, 0]\n",
      "[0, 9385, 71726, 106789, 14338, 115, 0]\n"
     ]
    },
    {
     "data": {
      "image/png": "[encoded data removed]",
      "text/plain": [
       "<IPython.core.display.Image object>"
      ]
     },
     "execution_count": 97,
     "metadata": {},
     "output_type": "execute_result"
    }
   ],
   "source": [
    "# Adapted from https://github.com/hangyao/\n",
    "from IPython.display import Image\n",
    "  \n",
    "globpath = 0\n",
    "\n",
    "def countdigits(data , folder): \n",
    "    #loop over all images and store \n",
    "    ret = dict()\n",
    "    arr=[0,0,0,0,0,0,0]\n",
    "    for i in np.arange(len(data)): \n",
    "        f = data[i]['boxes']\n",
    "        boxes = data[i]['boxes']\n",
    "        siz=len(boxes)\n",
    "        arr[siz] += 1\n",
    "        if siz in ret:\n",
    "            ret[siz] += 1\n",
    "        else:\n",
    "            ret[siz] = 1\n",
    "            \n",
    "        if siz == 6:\n",
    "            global globpath\n",
    "            globpath = folder+data[i]['filename']  \n",
    "        \n",
    "    return arr\n",
    "\n",
    "train_digit  = countdigits(train_data, train_folders  )  \n",
    "\n",
    "test_digit = countdigits(test_data , test_folders )\n",
    "\n",
    "extra_digit   = countdigits(extra_data , extra_folders)  \n",
    "\n",
    "print (train_digit)\n",
    "print (test_digit)\n",
    "print (extra_digit)\n",
    "\n",
    "Image(filename=globpath ) "
   ]
  },
  {
   "cell_type": "code",
   "execution_count": 125,
   "metadata": {
    "collapsed": false,
    "deletable": true,
    "editable": true,
    "scrolled": true
   },
   "outputs": [
    {
     "data": {
      "image/png": "[encoded data removed]",
      "text/plain": [
       "<matplotlib.figure.Figure at 0x7f691c8694e0>"
      ]
     },
     "metadata": {},
     "output_type": "display_data"
    }
   ],
   "source": [
    " \n",
    "xaxis =[0,1,2,3,4,5,6]\n",
    "plt.figure(figsize=(3,5)) \n",
    " \n",
    "plt.bar(xaxis,train_digit, align='center',edgecolor = \"none\",linewidth=0,log=True)\n",
    "plt.xlabel('Number of Digits in Image')\n",
    "plt.ylabel('Number of Images (in Log)')\n",
    "plt.title('Distribution of Digits in training dataset')  \n",
    "plt.xlim((0,8))\n",
    "plt.ylim(1E-1,1E5)\n",
    "plt.grid(True)\n",
    "\n",
    "plt.show()\n",
    "\n",
    "\n"
   ]
  },
  {
   "cell_type": "code",
   "execution_count": 138,
   "metadata": {
    "collapsed": false,
    "deletable": true,
    "editable": true,
    "scrolled": false
   },
   "outputs": [
    {
     "data": {
      "image/png": "[encoded data removed]",
      "text/plain": [
       "<matplotlib.figure.Figure at 0x7f68ab5e1470>"
      ]
     },
     "metadata": {},
     "output_type": "display_data"
    }
   ],
   "source": [
    " \n",
    "\n",
    "xaxis =[0,1,2,3,4,5,6]\n",
    "fig = plt.figure(figsize=(15,6)) \n",
    "#fig.suptitle(\"Log Distribution Plot of Number of Digits\")\n",
    "gs = gr.GridSpec(1,3)\n",
    "gs.update(wspace=.8)\n",
    "\n",
    "\n",
    "\n",
    "ax1 = plt.subplot(gs[:,0])\n",
    "plt.bar(xaxis,train_digit, align='center', log=True)\n",
    "plt.title(\"Digit Distribution in Training\")\n",
    "plt.xlabel(\"Number of digits\")\n",
    "plt.ylabel(\"Number of images  (in Log) \")\n",
    "plt.xlim(0,7)\n",
    "plt.ylim(1E-1,1E5)\n",
    "plt.grid(True)\n",
    "\n",
    "ax2 = plt.subplot(gs[:,1])\n",
    "plt.bar(xaxis,test_digit, align='center', log=True)\n",
    "plt.title(\"Digit Distribution in Test\")\n",
    "plt.xlabel(\"Number of digits\")\n",
    "plt.ylabel(\"Number of images (in Log) \")\n",
    "plt.xlim(0,7)\n",
    "plt.ylim(1E-1,1E5)\n",
    "plt.grid(True)\n",
    "\n",
    "ax3 = plt.subplot(gs[:,2])\n",
    "plt.bar(xaxis,extra_digit, align='center', log=True)\n",
    "plt.title(\"Digit Distribution in Extra\")\n",
    "plt.xlabel(\"Number of digits \")\n",
    "plt.ylabel(\"Number of images (in Log) \")\n",
    "plt.xlim(0,7)\n",
    "plt.ylim(1E-1,1E6)\n",
    "plt.grid(True)\n",
    "\n",
    "plt.show()"
   ]
  }
 ],
 "metadata": {
  "hide_input": false,
  "kernelspec": {
   "display_name": "Python 3",
   "language": "python",
   "name": "python3"
  },
  "language_info": {
   "codemirror_mode": {
    "name": "ipython",
    "version": 3
   },
   "file_extension": ".py",
   "mimetype": "text/x-python",
   "name": "python",
   "nbconvert_exporter": "python",
   "pygments_lexer": "ipython3",
   "version": "3.4.3"
  }
 },
 "nbformat": 4,
 "nbformat_minor": 2
}
